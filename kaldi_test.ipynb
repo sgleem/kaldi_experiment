{
  "nbformat": 4,
  "nbformat_minor": 0,
  "metadata": {
    "colab": {
      "name": "kaldi_test.ipynb",
      "version": "0.3.2",
      "provenance": [],
      "include_colab_link": true
    },
    "kernelspec": {
      "name": "python3",
      "display_name": "Python 3"
    }
  },
  "cells": [
    {
      "cell_type": "markdown",
      "metadata": {
        "id": "view-in-github",
        "colab_type": "text"
      },
      "source": [
        "<a href=\"https://colab.research.google.com/github/sgleem/kaldi_experiment/blob/master/kaldi_test.ipynb\" target=\"_parent\"><img src=\"https://colab.research.google.com/assets/colab-badge.svg\" alt=\"Open In Colab\"/></a>"
      ]
    },
    {
      "cell_type": "markdown",
      "metadata": {
        "id": "R5Un2s0CxqTe",
        "colab_type": "text"
      },
      "source": [
        "# 2019년도 2학기 기계학습 Kaldi 실습\n",
        "## Install\n",
        "- Download kaldi from github\n",
        "- Install pre-requisite library\n",
        "- Install tools for kaldi\n",
        "- Install kaldi source"
      ]
    },
    {
      "cell_type": "code",
      "metadata": {
        "id": "syxpZgg3wxXH",
        "colab_type": "code",
        "colab": {}
      },
      "source": [
        "!apt-get install -qq g++ automake autoconf libtool subversion\n",
        "!git clone --quiet https://github.com/kaldi-asr/kaldi.git"
      ],
      "execution_count": 0,
      "outputs": []
    },
    {
      "cell_type": "code",
      "metadata": {
        "id": "TN0XXiKW0nCs",
        "colab_type": "code",
        "colab": {}
      },
      "source": [
        "import os\n",
        "os.chdir('kaldi/tools')\n",
        "!apt-get install -qq g++ automake autoconf libtool subversion sox\n",
        "!make -j 2"
      ],
      "execution_count": 0,
      "outputs": []
    },
    {
      "cell_type": "code",
      "metadata": {
        "id": "6VD1ip6yxU5K",
        "colab_type": "code",
        "colab": {}
      },
      "source": [
        "os.chdir('../src')\n",
        "!./configure --shared\n",
        "!make depend -j 2\n",
        "!make -j 2"
      ],
      "execution_count": 0,
      "outputs": []
    },
    {
      "cell_type": "code",
      "metadata": {
        "id": "WC8ikObVyxI_",
        "colab_type": "code",
        "colab": {}
      },
      "source": [
        ""
      ],
      "execution_count": 0,
      "outputs": []
    }
  ]
}